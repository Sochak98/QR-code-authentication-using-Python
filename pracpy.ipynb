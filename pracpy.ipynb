{
 "cells": [
  {
   "cell_type": "code",
   "execution_count": 4,
   "id": "5b49de7e",
   "metadata": {},
   "outputs": [],
   "source": [
    "import pandas as pd"
   ]
  },
  {
   "cell_type": "code",
   "execution_count": 5,
   "id": "bd16e6ba",
   "metadata": {},
   "outputs": [],
   "source": [
    "df = pd.read_csv(\"daataa - Sheet1.csv\")"
   ]
  },
  {
   "cell_type": "code",
   "execution_count": 6,
   "id": "6a4ba48e",
   "metadata": {},
   "outputs": [
    {
     "data": {
      "text/html": [
       "<div>\n",
       "<style scoped>\n",
       "    .dataframe tbody tr th:only-of-type {\n",
       "        vertical-align: middle;\n",
       "    }\n",
       "\n",
       "    .dataframe tbody tr th {\n",
       "        vertical-align: top;\n",
       "    }\n",
       "\n",
       "    .dataframe thead th {\n",
       "        text-align: right;\n",
       "    }\n",
       "</style>\n",
       "<table border=\"1\" class=\"dataframe\">\n",
       "  <thead>\n",
       "    <tr style=\"text-align: right;\">\n",
       "      <th></th>\n",
       "      <th>First Name</th>\n",
       "      <th>Last Name</th>\n",
       "      <th>D.O.B</th>\n",
       "      <th>Mobile Number</th>\n",
       "      <th>Address</th>\n",
       "      <th>Email</th>\n",
       "    </tr>\n",
       "  </thead>\n",
       "  <tbody>\n",
       "    <tr>\n",
       "      <th>0</th>\n",
       "      <td>Aritra</td>\n",
       "      <td>Mondal</td>\n",
       "      <td>01/06/1999</td>\n",
       "      <td>8910236873</td>\n",
       "      <td>Srirampur</td>\n",
       "      <td>aritramondal06@gmail.com</td>\n",
       "    </tr>\n",
       "    <tr>\n",
       "      <th>1</th>\n",
       "      <td>Dedipya</td>\n",
       "      <td>Datta</td>\n",
       "      <td>08/12/1998</td>\n",
       "      <td>8910146385</td>\n",
       "      <td>Ichhapur</td>\n",
       "      <td>dedipyadatta08@gmail.com</td>\n",
       "    </tr>\n",
       "    <tr>\n",
       "      <th>2</th>\n",
       "      <td>Sreyam</td>\n",
       "      <td>Chakraborty</td>\n",
       "      <td>05/06/2002</td>\n",
       "      <td>6289859383</td>\n",
       "      <td>Newland</td>\n",
       "      <td>sreyamchakraborty23@gmail.com</td>\n",
       "    </tr>\n",
       "    <tr>\n",
       "      <th>3</th>\n",
       "      <td>Subhram</td>\n",
       "      <td>Chakraborty</td>\n",
       "      <td>10/11/1966</td>\n",
       "      <td>9874095680</td>\n",
       "      <td>Nangi</td>\n",
       "      <td>subhram02@gmail.com</td>\n",
       "    </tr>\n",
       "    <tr>\n",
       "      <th>4</th>\n",
       "      <td>Soham</td>\n",
       "      <td>Chakraborty</td>\n",
       "      <td>19/11/1998</td>\n",
       "      <td>8777363618</td>\n",
       "      <td>Batanagar</td>\n",
       "      <td>soham.311056@gmail.com</td>\n",
       "    </tr>\n",
       "  </tbody>\n",
       "</table>\n",
       "</div>"
      ],
      "text/plain": [
       "  First Name    Last Name       D.O.B  Mobile Number    Address  \\\n",
       "0     Aritra       Mondal  01/06/1999     8910236873  Srirampur   \n",
       "1    Dedipya        Datta  08/12/1998     8910146385   Ichhapur   \n",
       "2     Sreyam  Chakraborty  05/06/2002     6289859383    Newland   \n",
       "3    Subhram  Chakraborty  10/11/1966     9874095680      Nangi   \n",
       "4      Soham  Chakraborty  19/11/1998     8777363618  Batanagar   \n",
       "\n",
       "                           Email  \n",
       "0       aritramondal06@gmail.com  \n",
       "1       dedipyadatta08@gmail.com  \n",
       "2  sreyamchakraborty23@gmail.com  \n",
       "3            subhram02@gmail.com  \n",
       "4         soham.311056@gmail.com  "
      ]
     },
     "execution_count": 6,
     "metadata": {},
     "output_type": "execute_result"
    }
   ],
   "source": [
    "df.head()"
   ]
  },
  {
   "cell_type": "code",
   "execution_count": 4,
   "id": "b3e12354",
   "metadata": {},
   "outputs": [],
   "source": [
    "import segno as sg"
   ]
  },
  {
   "cell_type": "code",
   "execution_count": 7,
   "id": "58521d02",
   "metadata": {},
   "outputs": [
    {
     "name": "stdout",
     "output_type": "stream",
     "text": [
      "<class 'pandas.core.frame.DataFrame'>\n",
      "RangeIndex: 5 entries, 0 to 4\n",
      "Data columns (total 6 columns):\n",
      " #   Column         Non-Null Count  Dtype \n",
      "---  ------         --------------  ----- \n",
      " 0   First Name     5 non-null      object\n",
      " 1   Last Name      5 non-null      object\n",
      " 2   D.O.B          5 non-null      object\n",
      " 3   Mobile Number  5 non-null      int64 \n",
      " 4   Address        5 non-null      object\n",
      " 5   Email          5 non-null      object\n",
      "dtypes: int64(1), object(5)\n",
      "memory usage: 368.0+ bytes\n"
     ]
    }
   ],
   "source": [
    "df.info()"
   ]
  },
  {
   "cell_type": "code",
   "execution_count": 8,
   "id": "162969c8",
   "metadata": {},
   "outputs": [
    {
     "name": "stdout",
     "output_type": "stream",
     "text": [
      "First Name\n",
      "Last Name\n",
      "D.O.B\n",
      "Mobile Number\n",
      "Address\n",
      "Email\n"
     ]
    }
   ],
   "source": [
    "for row in df:\n",
    "    print(row)"
   ]
  },
  {
   "cell_type": "code",
   "execution_count": 41,
   "id": "ebdc4464",
   "metadata": {},
   "outputs": [],
   "source": [
    "with open(\"strings.text\", \"w\") as output:\n",
    "    for i in range(len(df)):\n",
    "        res = df['First Name'][i] + str(df['Mobile Number'][i]) + df['Last Name'][i] + df['Email'][i] + df['Address'][i]\n",
    "        output.write(str(res) + '\\n')"
   ]
  },
  {
   "cell_type": "code",
   "execution_count": 31,
   "id": "c5f25ac2",
   "metadata": {},
   "outputs": [],
   "source": [
    "import os"
   ]
  },
  {
   "cell_type": "code",
   "execution_count": 33,
   "id": "e9d64d7c",
   "metadata": {},
   "outputs": [],
   "source": [
    "import shutil"
   ]
  },
  {
   "cell_type": "code",
   "execution_count": 34,
   "id": "2a39ba44",
   "metadata": {},
   "outputs": [
    {
     "data": {
      "text/plain": [
       "'C:\\\\QR Code Scanner\\\\strings.text'"
      ]
     },
     "execution_count": 34,
     "metadata": {},
     "output_type": "execute_result"
    }
   ],
   "source": [
    "dest = 'C:\\QR Code Scanner\\strings.text'\n",
    "sour = 'C:\\SCprac1\\strings.text'\n",
    "shutil.move(sour, dest)"
   ]
  },
  {
   "cell_type": "code",
   "execution_count": 42,
   "id": "7e1e1997",
   "metadata": {},
   "outputs": [
    {
     "name": "stdout",
     "output_type": "stream",
     "text": [
      "Aritra8910236873Mondalaritramondal06@gmail.comSrirampur\n",
      "Dedipya8910146385Dattadedipyadatta08@gmail.comIchhapur\n",
      "Sreyam6289859383Chakrabortysreyamchakraborty23@gmail.comNewland\n",
      "Subhram9874095680Chakrabortysubhram02@gmail.comNangi\n",
      "Soham8777363618Chakrabortysoham.311056@gmail.comBatanagar\n",
      "\n"
     ]
    }
   ],
   "source": [
    "f = open(\"strings.text\", \"r\")\n",
    "file_con = f.read()\n",
    "print(file_con)"
   ]
  },
  {
   "cell_type": "code",
   "execution_count": 44,
   "id": "dc867e32",
   "metadata": {},
   "outputs": [],
   "source": [
    "b = file_con.split('\\n')"
   ]
  },
  {
   "cell_type": "code",
   "execution_count": 45,
   "id": "5a776cc1",
   "metadata": {},
   "outputs": [
    {
     "name": "stdout",
     "output_type": "stream",
     "text": [
      "['Aritra8910236873Mondalaritramondal06@gmail.comSrirampur', 'Dedipya8910146385Dattadedipyadatta08@gmail.comIchhapur', 'Sreyam6289859383Chakrabortysreyamchakraborty23@gmail.comNewland', 'Subhram9874095680Chakrabortysubhram02@gmail.comNangi', 'Soham8777363618Chakrabortysoham.311056@gmail.comBatanagar', '']\n"
     ]
    }
   ],
   "source": [
    "print(b)"
   ]
  },
  {
   "cell_type": "code",
   "execution_count": 48,
   "id": "f443dc72",
   "metadata": {},
   "outputs": [],
   "source": [
    "for i in range(len(df)):\n",
    "    makeQr = sg.make(b[i])\n",
    "    name = df['First Name'][i]\n",
    "    makeQr.save(f'{name}.png', scale=8)"
   ]
  },
  {
   "cell_type": "code",
   "execution_count": 9,
   "id": "0afd0e08",
   "metadata": {},
   "outputs": [],
   "source": [
    "import smtplib"
   ]
  },
  {
   "cell_type": "code",
   "execution_count": 18,
   "id": "40e39529",
   "metadata": {},
   "outputs": [
    {
     "name": "stdout",
     "output_type": "stream",
     "text": [
      "Sent...\n",
      "Sent...\n",
      "Sent...\n",
      "Sent...\n",
      "Sent...\n"
     ]
    }
   ],
   "source": [
    "from email.mime.multipart import MIMEMultipart\n",
    "from email.mime.text import MIMEText\n",
    "from pathlib import Path\n",
    "from email.mime.image import MIMEImage\n",
    "\n",
    "\n",
    "with smtplib.SMTP(host=\"smtp.gmail.com\", port=587) as smtp:\n",
    "    smtp.ehlo()\n",
    "    smtp.starttls()\n",
    "    smtp.login(\"source.mail@gmail.com\", \"$$password$$\")\n",
    "    \n",
    "    for i in range(0,len(df)):\n",
    "        message = MIMEMultipart()\n",
    "        message[\"from\"] = \"ProjectForFun Authority\"\n",
    "        message[\"to\"] = df['Email'][i]\n",
    "        message[\"subject\"] = \"Do not show it to someone\"\n",
    "        message.attach(MIMEText(\"Dear customer, \\n\\n   This mail contains a authentication QR code for the security purpose of your registration.\\n\\nDo not share this code with anyone. \\n\\nEnjoy our project :)\"))\n",
    "        name = df['First Name'][i]\n",
    "        message.attach(MIMEImage(Path(f'{name}.png').read_bytes()))\n",
    "\n",
    "        smtp.send_message(message)\n",
    "        print(\"Sent...\")"
   ]
  },
  {
   "cell_type": "code",
   "execution_count": null,
   "id": "42cf6874",
   "metadata": {},
   "outputs": [],
   "source": []
  },
  {
   "cell_type": "code",
   "execution_count": null,
   "id": "808ee904",
   "metadata": {},
   "outputs": [],
   "source": []
  }
 ],
 "metadata": {
  "kernelspec": {
   "display_name": "Python 3",
   "language": "python",
   "name": "python3"
  },
  "language_info": {
   "codemirror_mode": {
    "name": "ipython",
    "version": 3
   },
   "file_extension": ".py",
   "mimetype": "text/x-python",
   "name": "python",
   "nbconvert_exporter": "python",
   "pygments_lexer": "ipython3",
   "version": "3.8.8"
  }
 },
 "nbformat": 4,
 "nbformat_minor": 5
}
